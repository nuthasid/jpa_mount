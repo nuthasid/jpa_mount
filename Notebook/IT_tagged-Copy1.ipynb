{
 "cells": [
  {
   "cell_type": "code",
   "execution_count": 1,
   "metadata": {},
   "outputs": [
    {
     "name": "stderr",
     "output_type": "stream",
     "text": [
      "/home/nuthasid/Dropbox/Python/VirtualEnv/Jupyter-Notebook/lib/python3.6/importlib/_bootstrap.py:219: RuntimeWarning: numpy.dtype size changed, may indicate binary incompatibility. Expected 96, got 88\n",
      "  return f(*args, **kwds)\n",
      "/home/nuthasid/Dropbox/Python/VirtualEnv/Jupyter-Notebook/lib/python3.6/importlib/_bootstrap.py:219: RuntimeWarning: numpy.dtype size changed, may indicate binary incompatibility. Expected 96, got 88\n",
      "  return f(*args, **kwds)\n"
     ]
    }
   ],
   "source": [
    "import pickle\n",
    "import pandas\n",
    "#no warning\n",
    "import warnings\n",
    "warnings.filterwarnings('ignore')"
   ]
  },
  {
   "cell_type": "code",
   "execution_count": 2,
   "metadata": {},
   "outputs": [],
   "source": [
    "import sys\n",
    "if '..' not in sys.path:\n",
    "    sys.path.append('..')"
   ]
  },
  {
   "cell_type": "code",
   "execution_count": 3,
   "metadata": {},
   "outputs": [],
   "source": [
    "from src.classifier import Classifier\n",
    "from src.dataimporter import DataController"
   ]
  },
  {
   "cell_type": "code",
   "execution_count": 5,
   "metadata": {},
   "outputs": [
    {
     "name": "stderr",
     "output_type": "stream",
     "text": [
      "\n",
      "  0%|          | 0/1796 [00:00<?, ?it/s]\u001b[A"
     ]
    },
    {
     "name": "stdout",
     "output_type": "stream",
     "text": [
      "loading data\n",
      "pre-processing\n"
     ]
    },
    {
     "name": "stderr",
     "output_type": "stream",
     "text": [
      "/home/nuthasid/Dropbox/Python/VirtualEnv/Jupyter-Notebook/lib/python3.6/site-packages/sklearn/ensemble/weight_boosting.py:29: DeprecationWarning: numpy.core.umath_tests is an internal NumPy module and should not be imported. It will be removed in a future NumPy release.\n",
      "  from numpy.core.umath_tests import inner1d\n",
      "/home/nuthasid/Dropbox/Python/VirtualEnv/Jupyter-Notebook/lib/python3.6/site-packages/sklearn/ensemble/weight_boosting.py:29: DeprecationWarning: numpy.core.umath_tests is an internal NumPy module and should not be imported. It will be removed in a future NumPy release.\n",
      "  from numpy.core.umath_tests import inner1d\n",
      "/home/nuthasid/Dropbox/Python/VirtualEnv/Jupyter-Notebook/lib/python3.6/site-packages/sklearn/ensemble/weight_boosting.py:29: DeprecationWarning: numpy.core.umath_tests is an internal NumPy module and should not be imported. It will be removed in a future NumPy release.\n",
      "  from numpy.core.umath_tests import inner1d\n",
      "/home/nuthasid/Dropbox/Python/VirtualEnv/Jupyter-Notebook/lib/python3.6/site-packages/sklearn/ensemble/weight_boosting.py:29: DeprecationWarning: numpy.core.umath_tests is an internal NumPy module and should not be imported. It will be removed in a future NumPy release.\n",
      "  from numpy.core.umath_tests import inner1d\n",
      "/home/nuthasid/Dropbox/Python/VirtualEnv/Jupyter-Notebook/lib/python3.6/site-packages/sklearn/ensemble/weight_boosting.py:29: DeprecationWarning: numpy.core.umath_tests is an internal NumPy module and should not be imported. It will be removed in a future NumPy release.\n",
      "  from numpy.core.umath_tests import inner1d\n",
      "/home/nuthasid/Dropbox/Python/VirtualEnv/Jupyter-Notebook/lib/python3.6/site-packages/sklearn/ensemble/weight_boosting.py:29: DeprecationWarning: numpy.core.umath_tests is an internal NumPy module and should not be imported. It will be removed in a future NumPy release.\n",
      "  from numpy.core.umath_tests import inner1d\n",
      "/home/nuthasid/Dropbox/Python/VirtualEnv/Jupyter-Notebook/lib/python3.6/site-packages/sklearn/ensemble/weight_boosting.py:29: DeprecationWarning: numpy.core.umath_tests is an internal NumPy module and should not be imported. It will be removed in a future NumPy release.\n",
      "  from numpy.core.umath_tests import inner1d\n",
      "/home/nuthasid/Dropbox/Python/VirtualEnv/Jupyter-Notebook/lib/python3.6/site-packages/sklearn/ensemble/weight_boosting.py:29: DeprecationWarning: numpy.core.umath_tests is an internal NumPy module and should not be imported. It will be removed in a future NumPy release.\n",
      "  from numpy.core.umath_tests import inner1d\n",
      "/home/nuthasid/Dropbox/Python/VirtualEnv/Jupyter-Notebook/lib/python3.6/site-packages/sklearn/ensemble/weight_boosting.py:29: DeprecationWarning: numpy.core.umath_tests is an internal NumPy module and should not be imported. It will be removed in a future NumPy release.\n",
      "  from numpy.core.umath_tests import inner1d\n",
      "/home/nuthasid/Dropbox/Python/VirtualEnv/Jupyter-Notebook/lib/python3.6/site-packages/sklearn/ensemble/weight_boosting.py:29: DeprecationWarning: numpy.core.umath_tests is an internal NumPy module and should not be imported. It will be removed in a future NumPy release.\n",
      "  from numpy.core.umath_tests import inner1d\n",
      "/home/nuthasid/Dropbox/Python/VirtualEnv/Jupyter-Notebook/lib/python3.6/site-packages/sklearn/ensemble/weight_boosting.py:29: DeprecationWarning: numpy.core.umath_tests is an internal NumPy module and should not be imported. It will be removed in a future NumPy release.\n",
      "  from numpy.core.umath_tests import inner1d\n",
      "/home/nuthasid/Dropbox/Python/VirtualEnv/Jupyter-Notebook/lib/python3.6/site-packages/sklearn/ensemble/weight_boosting.py:29: DeprecationWarning: numpy.core.umath_tests is an internal NumPy module and should not be imported. It will be removed in a future NumPy release.\n",
      "  from numpy.core.umath_tests import inner1d\n",
      "/home/nuthasid/Dropbox/Python/VirtualEnv/Jupyter-Notebook/lib/python3.6/site-packages/sklearn/ensemble/weight_boosting.py:29: DeprecationWarning: numpy.core.umath_tests is an internal NumPy module and should not be imported. It will be removed in a future NumPy release.\n",
      "  from numpy.core.umath_tests import inner1d\n",
      "/home/nuthasid/Dropbox/Python/VirtualEnv/Jupyter-Notebook/lib/python3.6/site-packages/sklearn/ensemble/weight_boosting.py:29: DeprecationWarning: numpy.core.umath_tests is an internal NumPy module and should not be imported. It will be removed in a future NumPy release.\n",
      "  from numpy.core.umath_tests import inner1d\n",
      "/home/nuthasid/Dropbox/Python/VirtualEnv/Jupyter-Notebook/lib/python3.6/site-packages/sklearn/ensemble/weight_boosting.py:29: DeprecationWarning: numpy.core.umath_tests is an internal NumPy module and should not be imported. It will be removed in a future NumPy release.\n",
      "  from numpy.core.umath_tests import inner1d\n",
      "/home/nuthasid/Dropbox/Python/VirtualEnv/Jupyter-Notebook/lib/python3.6/site-packages/sklearn/ensemble/weight_boosting.py:29: DeprecationWarning: numpy.core.umath_tests is an internal NumPy module and should not be imported. It will be removed in a future NumPy release.\n",
      "  from numpy.core.umath_tests import inner1d\n",
      "/home/nuthasid/Dropbox/Python/VirtualEnv/Jupyter-Notebook/lib/python3.6/site-packages/sklearn/ensemble/weight_boosting.py:29: DeprecationWarning: numpy.core.umath_tests is an internal NumPy module and should not be imported. It will be removed in a future NumPy release.\n",
      "  from numpy.core.umath_tests import inner1d\n",
      "/home/nuthasid/Dropbox/Python/VirtualEnv/Jupyter-Notebook/lib/python3.6/site-packages/sklearn/ensemble/weight_boosting.py:29: DeprecationWarning: numpy.core.umath_tests is an internal NumPy module and should not be imported. It will be removed in a future NumPy release.\n",
      "  from numpy.core.umath_tests import inner1d\n",
      "/home/nuthasid/Dropbox/Python/VirtualEnv/Jupyter-Notebook/lib/python3.6/site-packages/sklearn/ensemble/weight_boosting.py:29: DeprecationWarning: numpy.core.umath_tests is an internal NumPy module and should not be imported. It will be removed in a future NumPy release.\n",
      "  from numpy.core.umath_tests import inner1d\n",
      "/home/nuthasid/Dropbox/Python/VirtualEnv/Jupyter-Notebook/lib/python3.6/site-packages/sklearn/ensemble/weight_boosting.py:29: DeprecationWarning: numpy.core.umath_tests is an internal NumPy module and should not be imported. It will be removed in a future NumPy release.\n",
      "  from numpy.core.umath_tests import inner1d\n",
      "/home/nuthasid/Dropbox/Python/VirtualEnv/Jupyter-Notebook/lib/python3.6/site-packages/sklearn/ensemble/weight_boosting.py:29: DeprecationWarning: numpy.core.umath_tests is an internal NumPy module and should not be imported. It will be removed in a future NumPy release.\n",
      "  from numpy.core.umath_tests import inner1d\n",
      "/home/nuthasid/Dropbox/Python/VirtualEnv/Jupyter-Notebook/lib/python3.6/site-packages/sklearn/ensemble/weight_boosting.py:29: DeprecationWarning: numpy.core.umath_tests is an internal NumPy module and should not be imported. It will be removed in a future NumPy release.\n",
      "  from numpy.core.umath_tests import inner1d\n",
      "/home/nuthasid/Dropbox/Python/VirtualEnv/Jupyter-Notebook/lib/python3.6/site-packages/sklearn/ensemble/weight_boosting.py:29: DeprecationWarning: numpy.core.umath_tests is an internal NumPy module and should not be imported. It will be removed in a future NumPy release.\n",
      "  from numpy.core.umath_tests import inner1d\n",
      "/home/nuthasid/Dropbox/Python/VirtualEnv/Jupyter-Notebook/lib/python3.6/site-packages/sklearn/ensemble/weight_boosting.py:29: DeprecationWarning: numpy.core.umath_tests is an internal NumPy module and should not be imported. It will be removed in a future NumPy release.\n",
      "  from numpy.core.umath_tests import inner1d\n",
      "/home/nuthasid/Dropbox/Python/VirtualEnv/Jupyter-Notebook/lib/python3.6/site-packages/sklearn/ensemble/weight_boosting.py:29: DeprecationWarning: numpy.core.umath_tests is an internal NumPy module and should not be imported. It will be removed in a future NumPy release.\n",
      "  from numpy.core.umath_tests import inner1d\n",
      "/home/nuthasid/Dropbox/Python/VirtualEnv/Jupyter-Notebook/lib/python3.6/site-packages/sklearn/ensemble/weight_boosting.py:29: DeprecationWarning: numpy.core.umath_tests is an internal NumPy module and should not be imported. It will be removed in a future NumPy release.\n",
      "  from numpy.core.umath_tests import inner1d\n"
     ]
    },
    {
     "name": "stderr",
     "output_type": "stream",
     "text": [
      "/home/nuthasid/Dropbox/Python/VirtualEnv/Jupyter-Notebook/lib/python3.6/site-packages/sklearn/ensemble/weight_boosting.py:29: DeprecationWarning: numpy.core.umath_tests is an internal NumPy module and should not be imported. It will be removed in a future NumPy release.\n",
      "  from numpy.core.umath_tests import inner1d\n",
      "/home/nuthasid/Dropbox/Python/VirtualEnv/Jupyter-Notebook/lib/python3.6/site-packages/sklearn/ensemble/weight_boosting.py:29: DeprecationWarning: numpy.core.umath_tests is an internal NumPy module and should not be imported. It will be removed in a future NumPy release.\n",
      "  from numpy.core.umath_tests import inner1d\n",
      "/home/nuthasid/Dropbox/Python/VirtualEnv/Jupyter-Notebook/lib/python3.6/site-packages/sklearn/ensemble/weight_boosting.py:29: DeprecationWarning: numpy.core.umath_tests is an internal NumPy module and should not be imported. It will be removed in a future NumPy release.\n",
      "  from numpy.core.umath_tests import inner1d\n",
      "/home/nuthasid/Dropbox/Python/VirtualEnv/Jupyter-Notebook/lib/python3.6/site-packages/sklearn/ensemble/weight_boosting.py:29: DeprecationWarning: numpy.core.umath_tests is an internal NumPy module and should not be imported. It will be removed in a future NumPy release.\n",
      "  from numpy.core.umath_tests import inner1d\n",
      "\n",
      "  0%|          | 1/1796 [01:19<39:27:54, 79.15s/it]\u001b[A\n",
      "  1%|          | 11/1796 [02:00<28:05:36, 56.66s/it]\u001b[A\n",
      "  5%|▍         | 81/1796 [02:18<18:55:50, 39.74s/it]\u001b[A\n",
      "  6%|▌         | 101/1796 [02:19<13:06:15, 27.83s/it]\u001b[A\n",
      "  8%|▊         | 141/1796 [02:45<9:02:47, 19.68s/it] \u001b[A\n",
      "  9%|▉         | 161/1796 [03:06<6:23:33, 14.08s/it]\u001b[A\n",
      " 21%|██        | 381/1796 [03:09<3:52:28,  9.86s/it]\u001b[A\n",
      " 23%|██▎       | 421/1796 [03:23<2:40:27,  7.00s/it]\u001b[A\n",
      " 24%|██▍       | 431/1796 [04:27<2:35:11,  6.82s/it]\u001b[A\n",
      " 32%|███▏      | 571/1796 [04:39<1:38:01,  4.80s/it]\u001b[A\n",
      " 38%|███▊      | 691/1796 [04:42<1:02:02,  3.37s/it]\u001b[A\n",
      " 39%|███▉      | 700/1796 [04:56<1:01:31,  3.37s/it]\u001b[A\n",
      " 39%|███▉      | 701/1796 [05:17<1:02:10,  3.41s/it]\u001b[A\n",
      " 42%|████▏     | 761/1796 [05:47<43:43,  2.54s/it]  \u001b[A\n",
      " 51%|█████▏    | 921/1796 [05:53<26:02,  1.79s/it]\u001b[A\n",
      " 52%|█████▏    | 941/1796 [05:54<17:59,  1.26s/it]\u001b[A\n",
      " 53%|█████▎    | 951/1796 [06:01<15:20,  1.09s/it]\u001b[A\n",
      " 55%|█████▌    | 991/1796 [06:12<11:23,  1.18it/s]\u001b[A\n",
      " 62%|██████▏   | 1121/1796 [06:40<07:24,  1.52it/s]\u001b[A\n",
      " 64%|██████▎   | 1141/1796 [06:58<07:59,  1.37it/s]\u001b[A\n",
      " 72%|███████▏  | 1291/1796 [07:05<04:25,  1.90it/s]\u001b[A\n",
      " 75%|███████▌  | 1351/1796 [07:30<03:40,  2.02it/s]\u001b[A\n",
      " 76%|███████▌  | 1361/1796 [07:42<05:05,  1.42it/s]\u001b[A\n",
      " 89%|████████▉ | 1601/1796 [07:55<01:39,  1.97it/s]\u001b[A\n",
      " 92%|█████████▏| 1660/1796 [08:06<01:09,  1.97it/s]\u001b[A\n",
      " 92%|█████████▏| 1661/1796 [08:28<01:10,  1.93it/s]\u001b[A\n",
      " 97%|█████████▋| 1751/1796 [08:42<00:18,  2.44it/s]\u001b[A\n",
      "100%|██████████| 1796/1796 [08:42<00:00,  3.44it/s]\u001b[A"
     ]
    }
   ],
   "source": [
    "data = DataController('../data/training_data_STEMvsNON.json', data_format='f_json')"
   ]
  },
  {
   "cell_type": "code",
   "execution_count": 6,
   "metadata": {},
   "outputs": [
    {
     "name": "stderr",
     "output_type": "stream",
     "text": [
      "/home/nuthasid/Dropbox/Python/VirtualEnv/Jupyter-Notebook/lib/python3.6/site-packages/sklearn/ensemble/weight_boosting.py:29: DeprecationWarning: numpy.core.umath_tests is an internal NumPy module and should not be imported. It will be removed in a future NumPy release.\n",
      "  from numpy.core.umath_tests import inner1d\n"
     ]
    }
   ],
   "source": [
    "from main_fit_vectorizer import TFIDF_Vectorizer\n",
    "with open('../Resource/vectorizer_v03.pck', 'rb') as pf:\n",
    "    vectorizer = pickle.load(pf)\n",
    "trainingData = data.get_training_set('1')\n",
    "training_Desc = trainingData['desc_seg']\n",
    "training_Title = trainingData['title_seg']\n",
    "training_Label = trainingData['tag']\n",
    "desc_vec = vectorizer.vectorize_desc.transform(training_Title)\n",
    "title_vec = vectorizer.vectorize_title.transform(training_Desc)\n",
    "from scipy.sparse import hstack\n",
    "data_vec = hstack([title_vec, desc_vec])\n",
    "label_vec = training_Label"
   ]
  },
  {
   "cell_type": "code",
   "execution_count": 7,
   "metadata": {},
   "outputs": [
    {
     "name": "stdout",
     "output_type": "stream",
     "text": [
      "             precision    recall  f1-score   support\n",
      "\n",
      "         !1       0.92      0.93      0.92       341\n",
      "          1       0.93      0.92      0.92       341\n",
      "\n",
      "avg / total       0.92      0.92      0.92       682\n",
      "\n",
      "             precision    recall  f1-score   support\n",
      "\n",
      "         !1       0.94      0.91      0.92       113\n",
      "          1       0.89      0.92      0.91        92\n",
      "\n",
      "avg / total       0.92      0.92      0.92       205\n",
      "\n",
      "Cross validation score F1:  [0.9034419  0.88595614 0.92104656 0.88595614 0.85960591 0.89285714]\n",
      "Average:                    0.8914772979914082\n"
     ]
    }
   ],
   "source": [
    "## Train using Multinomial NaiveBayes \n",
    "from sklearn.model_selection import cross_val_score\n",
    "from sklearn.naive_bayes import MultinomialNB\n",
    "from sklearn.model_selection import train_test_split\n",
    "from sklearn.metrics import classification_report\n",
    "\n",
    "## split sample into train_set and test_set\n",
    "desc_train, desc_test, label_train, label_test = train_test_split(data_vec, label_vec, test_size=0.3)\n",
    "\n",
    "## In sample accuracy\n",
    "in_NBclf = MultinomialNB()\n",
    "in_NBclf = in_NBclf.fit(data_vec, label_vec)\n",
    "label_predict = in_NBclf.predict(data_vec)\n",
    "print(classification_report(label_vec, label_predict))\n",
    "\n",
    "## Test set accuracy\n",
    "NBclf = MultinomialNB()\n",
    "NBclf.fit(desc_train, label_train)\n",
    "label_predict = NBclf.predict(desc_test)\n",
    "print(classification_report(label_test, label_predict))\n",
    "\n",
    "## Cross Validation Score\n",
    "scores = cross_val_score(in_NBclf, data_vec, label_vec, cv=6, scoring='f1_macro')\n",
    "print('Cross validation score F1: ', scores)\n",
    "print('Average:                   ', scores.mean())"
   ]
  },
  {
   "cell_type": "code",
   "execution_count": 8,
   "metadata": {},
   "outputs": [
    {
     "name": "stdout",
     "output_type": "stream",
     "text": [
      "             precision    recall  f1-score   support\n",
      "\n",
      "         !1       0.69      0.98      0.81       341\n",
      "          1       0.97      0.55      0.70       341\n",
      "\n",
      "avg / total       0.83      0.77      0.75       682\n",
      "\n",
      "             precision    recall  f1-score   support\n",
      "\n",
      "         !1       0.46      1.00      0.63        94\n",
      "          1       0.00      0.00      0.00       111\n",
      "\n",
      "avg / total       0.21      0.46      0.29       205\n",
      "\n",
      "Cross validation score F1:  [0.77139649 0.73049645 0.74299517 0.77299881 0.74908291 0.69220199]\n",
      "Average:                    0.7431953021271586\n"
     ]
    }
   ],
   "source": [
    "## Train using SVC \n",
    "from sklearn.model_selection import cross_val_score\n",
    "from sklearn.svm import SVC\n",
    "from sklearn.model_selection import train_test_split\n",
    "from sklearn.metrics import classification_report\n",
    "\n",
    "## split sample into train_set and test_set\n",
    "desc_train, desc_test, label_train, label_test = train_test_split(data_vec, label_vec, test_size=0.3)\n",
    "\n",
    "## In sample accuracy\n",
    "in_SVC = SVC()\n",
    "in_SVC = in_SVC.fit(data_vec, label_vec)\n",
    "label_predict = in_SVC.predict(data_vec)\n",
    "print(classification_report(label_vec, label_predict))\n",
    "\n",
    "## Test set accuracy\n",
    "SVCclf = SVC()\n",
    "SVCclf.fit(desc_train, label_train)\n",
    "label_predict = SVCclf.predict(desc_test)\n",
    "print(classification_report(label_test, label_predict))\n",
    "\n",
    "## Cross Validation Score\n",
    "scores = cross_val_score(in_SVC, data_vec, label_vec, cv=6, scoring='f1_macro')\n",
    "print('Cross validation score F1: ', scores)\n",
    "print('Average:                   ', scores.mean())"
   ]
  },
  {
   "cell_type": "code",
   "execution_count": 9,
   "metadata": {},
   "outputs": [
    {
     "name": "stdout",
     "output_type": "stream",
     "text": [
      "             precision    recall  f1-score   support\n",
      "\n",
      "         !1       1.00      1.00      1.00       341\n",
      "          1       1.00      1.00      1.00       341\n",
      "\n",
      "avg / total       1.00      1.00      1.00       682\n",
      "\n",
      "             precision    recall  f1-score   support\n",
      "\n",
      "         !1       0.50      1.00      0.66       102\n",
      "          1       0.00      0.00      0.00       103\n",
      "\n",
      "avg / total       0.25      0.50      0.33       205\n",
      "\n",
      "Cross validation score F1:  [0.86841093 0.88588589 0.82450739 0.86841093 0.83332051 0.83034362]\n",
      "Average:                    0.8518132092416298\n"
     ]
    }
   ],
   "source": [
    "## Train using DecisionTree \n",
    "from sklearn.model_selection import cross_val_score\n",
    "from sklearn.tree import DecisionTreeClassifier\n",
    "from sklearn.model_selection import train_test_split\n",
    "from sklearn.metrics import classification_report\n",
    "\n",
    "## split sample into train_set and test_set\n",
    "desc_train, desc_test, label_train, label_test = train_test_split(data_vec, label_vec, test_size=0.3)\n",
    "\n",
    "## In sample accuracy\n",
    "in_DTC = DecisionTreeClassifier()\n",
    "in_DTC = in_DTC.fit(data_vec, label_vec)\n",
    "label_predict = in_DTC.predict(data_vec)\n",
    "print(classification_report(label_vec, label_predict))\n",
    "\n",
    "## Test set accuracy\n",
    "DTCclf = SVC()\n",
    "DTCclf.fit(desc_train, label_train)\n",
    "label_predict = DTCclf.predict(desc_test)\n",
    "print(classification_report(label_test, label_predict))\n",
    "\n",
    "## Cross Validation Score\n",
    "scores = cross_val_score(in_DTC, data_vec, label_vec, cv=6, scoring='f1_macro')\n",
    "print('Cross validation score F1: ', scores)\n",
    "print('Average:                   ', scores.mean())"
   ]
  },
  {
   "cell_type": "code",
   "execution_count": null,
   "metadata": {},
   "outputs": [],
   "source": [
    "import sys\n",
    "import pickle\n",
    "if '..' not in sys.path:\n",
    "    sys.path.append('..')\n",
    "from main_fit_vectorizer import TFIDF_Vectorizer\n",
    "with open('../Resource/vectorizer_v03.pck', 'rb') as pf:\n",
    "    vectorizer = pickle.load(pf)"
   ]
  },
  {
   "cell_type": "code",
   "execution_count": null,
   "metadata": {},
   "outputs": [],
   "source": [
    "title_vec = vectorizer.vectorize_title\n",
    "desc_vec = vectorizer.vectorize_desc"
   ]
  },
  {
   "cell_type": "code",
   "execution_count": null,
   "metadata": {},
   "outputs": [],
   "source": [
    "import dill\n",
    "dill.dump(title_vec, open('title', 'wb'))\n",
    "dill.dump(desc_vec, open('desc', 'wb'))"
   ]
  },
  {
   "cell_type": "code",
   "execution_count": null,
   "metadata": {},
   "outputs": [],
   "source": [
    "type(desc_vec)"
   ]
  },
  {
   "cell_type": "code",
   "execution_count": 10,
   "metadata": {},
   "outputs": [],
   "source": [
    "pickle.dump(in_NBclf, open('../Resource/STEM_nonSTEM_NB.clsf', 'wb'))"
   ]
  },
  {
   "cell_type": "code",
   "execution_count": null,
   "metadata": {},
   "outputs": [],
   "source": []
  }
 ],
 "metadata": {
  "kernelspec": {
   "display_name": "Python 3",
   "language": "python",
   "name": "python3"
  },
  "language_info": {
   "codemirror_mode": {
    "name": "ipython",
    "version": 3
   },
   "file_extension": ".py",
   "mimetype": "text/x-python",
   "name": "python",
   "nbconvert_exporter": "python",
   "pygments_lexer": "ipython3",
   "version": "3.6.5"
  }
 },
 "nbformat": 4,
 "nbformat_minor": 2
}
