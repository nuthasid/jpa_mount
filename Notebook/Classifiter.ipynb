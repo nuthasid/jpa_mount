{
 "cells": [
  {
   "cell_type": "code",
   "execution_count": 1,
   "metadata": {},
   "outputs": [],
   "source": [
    "import pickle\n",
    "import sys\n",
    "import warnings\n",
    "warnings.filterwarnings('ignore')\n",
    "\n",
    "if '..' not in sys.path:\n",
    "    sys.path.append('..')\n",
    "    \n",
    "from main_fit_vectorizer import TFIDF_Vectorizer"
   ]
  },
  {
   "cell_type": "code",
   "execution_count": 2,
   "metadata": {},
   "outputs": [],
   "source": [
    "with open('../data/vectorizer_v02.pck', 'rb') as pf:\n",
    "    vectorizer = pickle.load(pf)"
   ]
  },
  {
   "cell_type": "code",
   "execution_count": 3,
   "metadata": {},
   "outputs": [],
   "source": [
    "## Construct Dataframe\n",
    "\n",
    "class DataController():\n",
    "    import sys\n",
    "    if '..' not in sys.path:\n",
    "        sys.path.append('..')\n",
    "    \n",
    "    ## init will create dataMatrix\n",
    "    def __init__(self, pathToFile):\n",
    "        import os\n",
    "        import json\n",
    "        import pandas as pd\n",
    "        from multiprocessing import Pool\n",
    "\n",
    "        loaded_data = []\n",
    "        with open(pathToFile, 'r', encoding='utf-8') as fin:\n",
    "            for line in fin:\n",
    "                ## for each line, add into dataMatrix, using [\"title\", \"desc\", \"tag\"] structure\n",
    "                loaded_data.append(json.loads(line, encoding='utf-8'))\n",
    "                #self.dataMatrix = self.dataMatrix.append(line_dict, ignore_index=True)\n",
    "                #count+=1\n",
    "                #if(count==100): break\n",
    "        \n",
    "        docs_tokens = []\n",
    "        with Pool(30) as pool:\n",
    "            pool_result = pool.imap(self.wrapper_tokenize, loaded_data, chunksize=30)\n",
    "            for item in pool_result:\n",
    "                docs_tokens.append(item)\n",
    "        \n",
    "        self.dataMatrix = pd.DataFrame(docs_tokens, columns=[\"title\",\"desc\",\"tag\"])\n",
    "    \n",
    "    def getTrainingSet(self, label_class):\n",
    "        import pandas as pd\n",
    "        ## classSet is set of data that has tag = label_class\n",
    "        targetSet = self.dataMatrix[self.dataMatrix['tag']==label_class]\n",
    "        restSet = self.dataMatrix[self.dataMatrix['tag']!=label_class]\n",
    "\n",
    "        if(targetSet.shape[0] < restSet.shape[0]):\n",
    "            # target has less population than the rest\n",
    "            trainingSet = pd.concat([targetSet, restSet.sample(n=targetSet.shape[0])])\n",
    "        else:\n",
    "            # target has more population than the rest\n",
    "            trainingSet = pd.concat([targetSet.sample(n=restSet.shape[0]), restSet])\n",
    "        # shuffle data using sample fraction = 1\n",
    "        trainingSet = trainingSet.sample(frac=1)\n",
    "        return trainingSet\n",
    "\n",
    "    def wrapper_tokenize(self, doc_dict):\n",
    "        from src import tokenizer\n",
    "        import tltk\n",
    "        def tltk_tokenize(text):\n",
    "            ret = tltk.segment(text).replace('<u/>', '').replace('<s/>', '').split('|')\n",
    "            return ret\n",
    "        cleaner = tokenizer.cleanerFactory(\"../Resource/charset\")\n",
    "        title = tokenizer.tokenize(doc_dict['title'], tltk_tokenize, 5, cleaner)\n",
    "        desc = tokenizer.tokenize(doc_dict['desc'], tltk_tokenize, 5, cleaner)\n",
    "        tag = doc_dict['tag']\n",
    "        return [title, desc, tag]"
   ]
  },
  {
   "cell_type": "code",
   "execution_count": 4,
   "metadata": {},
   "outputs": [],
   "source": [
    "## Create data\n",
    "import os\n",
    "from sklearn.feature_extraction.text import TfidfVectorizer\n",
    "\n",
    "file_name = \"block1234.json\"\n",
    "file_path = os.getcwd()+\"/../data/\"+file_name\n",
    "\n",
    "data = DataController(file_path)\n",
    "\n",
    "## Create training data\n",
    "trainingData = data.getTrainingSet(\"0\")\n",
    "\n",
    "training_Desc = trainingData['desc']\n",
    "training_Title = trainingData['title']\n",
    "training_Label = trainingData['tag']"
   ]
  },
  {
   "cell_type": "code",
   "execution_count": 11,
   "metadata": {},
   "outputs": [],
   "source": [
    "## vectorize data\n",
    "\n",
    "desc_vectorizer = vectorizer.vectorize_desc\n",
    "# desc_vectorizer = TfidfVectorizer(tokenizer=tkn2.tokenizer, max_df=1.0, min_df=1)\n",
    "desc_vec = desc_vectorizer.transform(training_Title)\n",
    "\n",
    "title_vectorizer = vectorizer.vectorize_title\n",
    "# title_vectorizer = TfidfVectorizer(tokenizer=tkn4.tokenizer, max_df=1.0, min_df=1)\n",
    "title_vec = title_vectorizer.transform(training_Desc)\n",
    "\n",
    "## stack title onto desc\n",
    "from scipy.sparse import hstack\n",
    "data_vec = hstack([title_vec, desc_vec])\n",
    "\n",
    "## create label_vec\n",
    "label_vec = training_Label"
   ]
  },
  {
   "cell_type": "code",
   "execution_count": 12,
   "metadata": {},
   "outputs": [],
   "source": [
    "def predict_cutoff(datavec, cutoff, predict_proba):\n",
    "    result = predict_proba(datavec)\n",
    "    answer = ['1' if item[1] > cutoff else '0' for item in result]\n",
    "    return answer"
   ]
  },
  {
   "cell_type": "code",
   "execution_count": 7,
   "metadata": {},
   "outputs": [],
   "source": [
    "#from sklearn.naive_bayes import MultinomialNB\n",
    "#class MultiNB(MultinomialNB):\n",
    "#    def __init__(self, cutoff):\n",
    "#        super(MultiNB, self).__init__()\n",
    "#        self.cutoff = cutoff\n",
    "#    def predict(self, datavec):\n",
    "#        result = self.predict_proba(datavec)\n",
    "#        answer = ['1' if item[1] > self.cutoff else '0' for item in result]\n",
    "#        return answer"
   ]
  },
  {
   "cell_type": "code",
   "execution_count": 13,
   "metadata": {},
   "outputs": [
    {
     "name": "stdout",
     "output_type": "stream",
     "text": [
      "Cross validation score F1:  [0.81463415 0.8157753  0.85031281 0.83270256 0.86816745 0.79423277]\n",
      "Average:                    0.8293041719251583\n"
     ]
    }
   ],
   "source": [
    "from sklearn.model_selection import cross_val_score\n",
    "from src.multinomialNB import MultiNB\n",
    "NBclfProb = MultiNB({'0':0.7,'1':0.3})\n",
    "scores = cross_val_score(NBclfProb, data_vec, label_vec, cv=6, scoring='f1_macro')\n",
    "print('Cross validation score F1: ', scores)\n",
    "print('Average:                   ', scores.mean())"
   ]
  },
  {
   "cell_type": "code",
   "execution_count": 14,
   "metadata": {},
   "outputs": [
    {
     "name": "stdout",
     "output_type": "stream",
     "text": [
      "Cross validation score:  [0.81578947 0.83764122 0.84951038]\n",
      "             precision    recall  f1-score   support\n",
      "\n",
      "          0       0.87      0.87      0.87       341\n",
      "          1       0.87      0.87      0.87       341\n",
      "\n",
      "avg / total       0.87      0.87      0.87       682\n",
      "\n",
      "             precision    recall  f1-score   support\n",
      "\n",
      "          0       0.89      0.74      0.81       108\n",
      "          1       0.76      0.90      0.82        97\n",
      "\n",
      "avg / total       0.83      0.81      0.81       205\n",
      "\n"
     ]
    }
   ],
   "source": [
    "## Train using Multinomial NaiveBayes \n",
    "from sklearn.model_selection import cross_val_score\n",
    "from sklearn.naive_bayes import MultinomialNB\n",
    "from sklearn.model_selection import train_test_split\n",
    "from sklearn.metrics import classification_report\n",
    "\n",
    "## see crossvalidation score\n",
    "NBclf = MultinomialNB()\n",
    "scores = cross_val_score(NBclf, data_vec, label_vec, cv=3, scoring='f1_macro')\n",
    "print('Cross validation score: ', scores)\n",
    "\n",
    "## split sample into train_set and test_set\n",
    "desc_train, desc_test, label_train, label_test = train_test_split(data_vec, label_vec, test_size=0.3)\n",
    "\n",
    "## In sample accuracy\n",
    "in_NBclf = MultinomialNB()\n",
    "in_NBclf = in_NBclf.fit(data_vec, label_vec)\n",
    "label_predict = predict_cutoff(data_vec, 0.5, in_NBclf.predict_proba)\n",
    "print(classification_report(label_vec, label_predict))\n",
    "\n",
    "## Test set accuracy\n",
    "NBclf = NBclf.fit(desc_train, label_train)\n",
    "label_predict = predict_cutoff(desc_test, 0.3, NBclf.predict_proba)\n",
    "print(classification_report(label_test, label_predict))"
   ]
  },
  {
   "cell_type": "code",
   "execution_count": 10,
   "metadata": {},
   "outputs": [],
   "source": [
    "# fit classifier for later use\n",
    "MNBclf = MultiNB({'0':0.7,'1':0.3})\n",
    "MNBclf = MNBclf.fit(data_vec, label_vec)\n",
    "with open('../Resource/MultiNB_STEMvsNONSTEM_0030vs0070.pck', 'wb') as f:\n",
    "    pickle.dump(MNBclf, f)"
   ]
  },
  {
   "cell_type": "code",
   "execution_count": 15,
   "metadata": {},
   "outputs": [
    {
     "name": "stdout",
     "output_type": "stream",
     "text": [
      "             precision    recall  f1-score   support\n",
      "\n",
      "          0       0.92      0.80      0.86       108\n",
      "          1       0.80      0.93      0.86        97\n",
      "\n",
      "avg / total       0.87      0.86      0.86       205\n",
      "\n"
     ]
    }
   ],
   "source": [
    "label_predict = MNBclf.predict(desc_test)\n",
    "print(classification_report(label_test, label_predict))"
   ]
  },
  {
   "cell_type": "code",
   "execution_count": 19,
   "metadata": {},
   "outputs": [
    {
     "data": {
      "text/plain": [
       "(682, 4259)"
      ]
     },
     "execution_count": 19,
     "metadata": {},
     "output_type": "execute_result"
    }
   ],
   "source": [
    "data_vec.shape"
   ]
  },
  {
   "cell_type": "code",
   "execution_count": null,
   "metadata": {},
   "outputs": [],
   "source": []
  }
 ],
 "metadata": {
  "kernelspec": {
   "display_name": "Python 3",
   "language": "python",
   "name": "python3"
  },
  "language_info": {
   "codemirror_mode": {
    "name": "ipython",
    "version": 3
   },
   "file_extension": ".py",
   "mimetype": "text/x-python",
   "name": "python",
   "nbconvert_exporter": "python",
   "pygments_lexer": "ipython3",
   "version": "3.6.5"
  }
 },
 "nbformat": 4,
 "nbformat_minor": 2
}
