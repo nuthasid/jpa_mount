{
 "cells": [
  {
   "cell_type": "code",
   "execution_count": 1,
   "metadata": {},
   "outputs": [],
   "source": [
    "class Classifier():\n",
    "    \n",
    "    import sys\n",
    "    if '..' not in sys.path:\n",
    "        sys.path.append('..')\n",
    "    \n",
    "    def __init__(self, vectorizer, classifier):\n",
    "        \n",
    "        self._load_classifier(classifier)\n",
    "        self._load_vectorizer(vectorizer)\n",
    "        \n",
    "    def _load_classifier(self, classifier):\n",
    "        # load pre-fitted classifier\n",
    "        \n",
    "        from src.multinomialNB import MultiNB\n",
    "        import pickle\n",
    "        \n",
    "        with open(classifier, 'rb') as pf:\n",
    "            self.classifier = pickle.load(pf)\n",
    "    \n",
    "    def _load_vectorizer(self, vectorizer):\n",
    "        # load pre-fitted vectorizer\n",
    "        \n",
    "        #from src.Vectorizer import TFIDF_Vectorizer\n",
    "        #import pickle\n",
    "        #\n",
    "        #with open(vectorizer, 'rb') as pf:\n",
    "        #    self.vectorizer = pickle.load(pf)\n",
    "        self.vectorizer = vectorizer"
   ]
  },
  {
   "cell_type": "code",
   "execution_count": 2,
   "metadata": {},
   "outputs": [],
   "source": [
    "class DataController():\n",
    "\n",
    "    import sys\n",
    "    if '..' not in sys.path:\n",
    "        sys.path.append('..')\n",
    "    \n",
    "    ## init will create dataMatrix\n",
    "    def __init__(self, pathToFile, num_pool=30, chunk=50):\n",
    "        import os\n",
    "        import json\n",
    "        import pandas as pd\n",
    "        from multiprocessing import Pool\n",
    "        from tqdm import tqdm_notebook\n",
    "\n",
    "        print('loading data')\n",
    "        loaded_data = []\n",
    "        with open(pathToFile, 'r', encoding='utf-8') as fin:\n",
    "            for line in fin:\n",
    "                loaded_data.append(json.loads(line, encoding='utf-8'))\n",
    "        \n",
    "        docs_tokens = []\n",
    "        print('pre-processing')\n",
    "        pbar = tqdm_notebook(total=int(len(loaded_data)))\n",
    "        with Pool(num_pool) as pool:\n",
    "            pool_result = pool.imap(self._preprocess, loaded_data, chunk)\n",
    "            for item in pool_result:\n",
    "                docs_tokens.append(item)\n",
    "                pbar.update(chunk)\n",
    "        pbar.close()\n",
    "        \n",
    "        self.dataSet = pd.DataFrame(docs_tokens, columns=['job_id', 'title','desc','tag','sampled'])\n",
    "        \n",
    "    def sample(self, size=1.0):\n",
    "        \n",
    "        if type(size) is float:\n",
    "            size = int(self.dataSet.shape[0]*size)\n",
    "        ret_sample = self.dataSet.sample(n=size)\n",
    "        self.dataSet.loc[ret_sample.index] = True\n",
    "        #self.dataSet = self.dataSet.drop(ret_sample.index)\n",
    "        return ret_sample\n",
    "    \n",
    "    def _preprocess(self, doc_dict):\n",
    "        from src import tokenizer\n",
    "        import tltk\n",
    "        import hashlib\n",
    "        import time\n",
    "        def tltk_tokenize(text):\n",
    "            ret = tltk.segment(text).replace('<u/>', '').replace('<s/>', '').split('|')\n",
    "            return ret\n",
    "        cleaner = tokenizer.cleanerFactory(\"../Resource/charset\")\n",
    "        title = tokenizer.tokenize(doc_dict['title'], tltk_tokenize, 5, cleaner)\n",
    "        desc = tokenizer.tokenize(doc_dict['desc'], tltk_tokenize, 5, cleaner)\n",
    "        tag = doc_dict['tag']\n",
    "        in_str = str(time.time()) + title + desc\n",
    "        job_id = hashlib.md5(bytes(in_str, 'utf-8')).hexdigest()\n",
    "        return [job_id, title, desc, tag, False]\n",
    "    \n",
    "    def add_data(self, data):\n",
    "        self.dataSet.add(data)\n",
    "        \n",
    "    def predict(self, classifier, vectorizer, sample=1.0):\n",
    "        \n",
    "        from scipy.sparse import hstack\n",
    "        import pandas\n",
    "        \n",
    "        training_sample = self.sample(sample)\n",
    "        prediction = training_sample\n",
    "        training_Desc = training_sample['desc']\n",
    "        training_Title = training_sample['title']\n",
    "        training_Label = training_sample['tag']\n",
    "        \n",
    "        #define vectorizer for title and description\n",
    "        desc_vectorizer = vectorizer.vectorize_desc\n",
    "        title_vectorizer = vectorizer.vectorize_title\n",
    "        #transform-vectorize\n",
    "        title_vec = title_vectorizer.transform(training_Title)\n",
    "        desc_vec = desc_vectorizer.transform(training_Desc)\n",
    "        #stack title onto desc\n",
    "        print('desc', desc_vec.shape)\n",
    "        print('title', title_vec.shape)\n",
    "        data_vec = hstack([title_vec, desc_vec])\n",
    "        print('data vec', data_vec.shape)\n",
    "        #predict class\n",
    "        label_predict = classifier.predict(data_vec)\n",
    "        #add prediction to pandas dataframe\n",
    "        prediction['predict'] = pandas.Series(label_predict, index=prediction.index)\n",
    "        \n",
    "        return prediction"
   ]
  },
  {
   "cell_type": "code",
   "execution_count": null,
   "metadata": {},
   "outputs": [
    {
     "name": "stdout",
     "output_type": "stream",
     "text": [
      "loading data\n",
      "pre-processing\n"
     ]
    },
    {
     "data": {
      "application/vnd.jupyter.widget-view+json": {
       "model_id": "f5de112d547547068a5a3c431dddaf1e",
       "version_major": 2,
       "version_minor": 0
      },
      "text/plain": [
       "HBox(children=(IntProgress(value=0, max=1796), HTML(value='')))"
      ]
     },
     "metadata": {},
     "output_type": "display_data"
    }
   ],
   "source": [
    "#no warning\n",
    "import warnings\n",
    "warnings.filterwarnings('ignore')\n",
    "#init classifier\n",
    "#beg-addhoc-fix\n",
    "import sys\n",
    "import pickle\n",
    "if '..' not in sys.path:\n",
    "    sys.path.append('..')\n",
    "from main_fit_vectorizer import TFIDF_Vectorizer\n",
    "with open('../Resource/vectorizer_v02.pck', 'rb') as pf:\n",
    "    vectorizer = pickle.load(pf)\n",
    "cClassifier = Classifier(vectorizer, '../Resource/MultiNB_STEMvsNONSTEM_0030vs0070.pck')\n",
    "#end-addhoc-fix\n",
    "#DataSet = DataController('../data/masterDB_JPA_Data_-_20180406_flatten.json', 31, 100)\n",
    "DataSet = DataController('../data/block1234.json', 31, 30)\n",
    "predicted = DataSet.predict(cClassifier.classifier, cClassifier.vectorizer)"
   ]
  },
  {
   "cell_type": "code",
   "execution_count": null,
   "metadata": {},
   "outputs": [],
   "source": [
    "DataSet.dataSet.shape"
   ]
  },
  {
   "cell_type": "code",
   "execution_count": null,
   "metadata": {},
   "outputs": [],
   "source": []
  }
 ],
 "metadata": {
  "kernelspec": {
   "display_name": "Python 3",
   "language": "python",
   "name": "python3"
  },
  "language_info": {
   "codemirror_mode": {
    "name": "ipython",
    "version": 3
   },
   "file_extension": ".py",
   "mimetype": "text/x-python",
   "name": "python",
   "nbconvert_exporter": "python",
   "pygments_lexer": "ipython3",
   "version": "3.6.5"
  }
 },
 "nbformat": 4,
 "nbformat_minor": 2
}
